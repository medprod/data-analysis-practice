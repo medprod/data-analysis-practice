{
 "cells": [
  {
   "cell_type": "code",
   "execution_count": 1,
   "id": "4af0d5e2",
   "metadata": {},
   "outputs": [],
   "source": [
    "import pandas as pd\n",
    "import numpy as np"
   ]
  },
  {
   "cell_type": "code",
   "execution_count": 2,
   "id": "2df37284",
   "metadata": {},
   "outputs": [
    {
     "name": "stdout",
     "output_type": "stream",
     "text": [
      "[1 2 3]\n"
     ]
    }
   ],
   "source": [
    "arr1d = np.array([1,2,3])\n",
    "print(arr1d)"
   ]
  },
  {
   "cell_type": "code",
   "execution_count": 3,
   "id": "4038a724",
   "metadata": {},
   "outputs": [
    {
     "name": "stdout",
     "output_type": "stream",
     "text": [
      "2\n"
     ]
    }
   ],
   "source": [
    "print(arr1d[1])"
   ]
  },
  {
   "cell_type": "code",
   "execution_count": 4,
   "id": "944a1e82",
   "metadata": {},
   "outputs": [
    {
     "name": "stdout",
     "output_type": "stream",
     "text": [
      "[[1 2 3]\n",
      " [4 5 6]]\n"
     ]
    }
   ],
   "source": [
    "arr2d = np.array([[1,2,3], [4,5,6]])\n",
    "print(arr2d)"
   ]
  },
  {
   "cell_type": "code",
   "execution_count": 5,
   "id": "5861f94f",
   "metadata": {},
   "outputs": [
    {
     "name": "stdout",
     "output_type": "stream",
     "text": [
      "4\n"
     ]
    }
   ],
   "source": [
    "print(arr2d[1][0])"
   ]
  },
  {
   "cell_type": "code",
   "execution_count": 13,
   "id": "b7d8ed6b",
   "metadata": {},
   "outputs": [
    {
     "name": "stdout",
     "output_type": "stream",
     "text": [
      "[[[ 1.  2.  3.]\n",
      "  [ 4.  5.  6.]]\n",
      "\n",
      " [[ 7.  8.  9.]\n",
      "  [10. 11. 12.]]]\n"
     ]
    }
   ],
   "source": [
    "arr3d = np.array([[[1,2,3],[4,5.0,6]],[[7,8,9],[10,11,12]]])\n",
    "print(arr3d)"
   ]
  },
  {
   "cell_type": "code",
   "execution_count": 14,
   "id": "89aa8153",
   "metadata": {},
   "outputs": [
    {
     "name": "stdout",
     "output_type": "stream",
     "text": [
      "6.0\n"
     ]
    }
   ],
   "source": [
    "print(arr3d[0][1][2])"
   ]
  },
  {
   "cell_type": "markdown",
   "id": "a3f69cfe",
   "metadata": {},
   "source": [
    "### Attributes of Numpy Array:\n",
    " 1. size = tells us the total number of elements in the array.\n",
    " 2. shape =gives us the size of each dimension.\n",
    " 3. dtype = tells us the data type of the elements in the array.\n",
    " 4. ndim = tells us the number of dimensions of the array."
   ]
  },
  {
   "cell_type": "code",
   "execution_count": 15,
   "id": "c363a68f",
   "metadata": {},
   "outputs": [
    {
     "name": "stdout",
     "output_type": "stream",
     "text": [
      "12\n"
     ]
    }
   ],
   "source": [
    "print(arr3d.size)"
   ]
  },
  {
   "cell_type": "code",
   "execution_count": 16,
   "id": "2595a27f",
   "metadata": {},
   "outputs": [
    {
     "name": "stdout",
     "output_type": "stream",
     "text": [
      "(2, 2, 3)\n"
     ]
    }
   ],
   "source": [
    "print(arr3d.shape)"
   ]
  },
  {
   "cell_type": "code",
   "execution_count": 17,
   "id": "64f0e753",
   "metadata": {},
   "outputs": [
    {
     "name": "stdout",
     "output_type": "stream",
     "text": [
      "(2, 3)\n"
     ]
    }
   ],
   "source": [
    "print(arr2d.shape)"
   ]
  },
  {
   "cell_type": "code",
   "execution_count": 18,
   "id": "27086fd4",
   "metadata": {},
   "outputs": [
    {
     "name": "stdout",
     "output_type": "stream",
     "text": [
      "(3,)\n"
     ]
    }
   ],
   "source": [
    "print(arr1d.shape)"
   ]
  },
  {
   "cell_type": "code",
   "execution_count": 19,
   "id": "f85657bf",
   "metadata": {},
   "outputs": [
    {
     "name": "stdout",
     "output_type": "stream",
     "text": [
      "float64\n"
     ]
    }
   ],
   "source": [
    "print(arr3d.dtype)"
   ]
  },
  {
   "cell_type": "code",
   "execution_count": 21,
   "id": "dc9a500f",
   "metadata": {},
   "outputs": [
    {
     "name": "stdout",
     "output_type": "stream",
     "text": [
      "3\n"
     ]
    }
   ],
   "source": [
    "print(arr3d.ndim)"
   ]
  },
  {
   "cell_type": "markdown",
   "id": "8a4876e9",
   "metadata": {},
   "source": [
    "### Adding Arrays vs Numpy Arrays"
   ]
  },
  {
   "cell_type": "code",
   "execution_count": 23,
   "id": "320d2e52",
   "metadata": {},
   "outputs": [
    {
     "name": "stdout",
     "output_type": "stream",
     "text": [
      "[1, 2, 3, 4, 5, 6]\n"
     ]
    }
   ],
   "source": [
    "arr1 = [1,2,3]\n",
    "arr2 = [4,5,6]\n",
    "\n",
    "res = arr1 + arr2\n",
    "print(res)"
   ]
  },
  {
   "cell_type": "code",
   "execution_count": 40,
   "id": "e4d61050",
   "metadata": {},
   "outputs": [
    {
     "name": "stdout",
     "output_type": "stream",
     "text": [
      "[5 7 9]\n"
     ]
    }
   ],
   "source": [
    "arr1d = np.array([1,2,3])\n",
    "arr1d2 = np.array([4,5,6])\n",
    "\n",
    "res = arr1d + arr1d2\n",
    "# res = arr1d - arr1d2\n",
    "# res = arr1d * arr1d2\n",
    "# res = arr1d / arr1d2\n",
    "print(res)"
   ]
  },
  {
   "cell_type": "markdown",
   "id": "6c94aca7",
   "metadata": {},
   "source": [
    "### Indexing, Splicing, Reshaping"
   ]
  },
  {
   "cell_type": "code",
   "execution_count": 28,
   "id": "711537e4",
   "metadata": {},
   "outputs": [
    {
     "name": "stdout",
     "output_type": "stream",
     "text": [
      "3\n"
     ]
    }
   ],
   "source": [
    "print(arr2d[0,2])"
   ]
  },
  {
   "cell_type": "code",
   "execution_count": 29,
   "id": "3293f4fd",
   "metadata": {},
   "outputs": [
    {
     "name": "stdout",
     "output_type": "stream",
     "text": [
      "[[1 2 3]\n",
      " [4 5 6]]\n"
     ]
    }
   ],
   "source": [
    "print(arr2d)"
   ]
  },
  {
   "cell_type": "code",
   "execution_count": 37,
   "id": "cf5391cb",
   "metadata": {},
   "outputs": [
    {
     "name": "stdout",
     "output_type": "stream",
     "text": [
      "[[4 5 6]]\n"
     ]
    }
   ],
   "source": [
    "print(arr2d[1:2:1])"
   ]
  },
  {
   "cell_type": "code",
   "execution_count": 39,
   "id": "468cff0d",
   "metadata": {},
   "outputs": [
    {
     "name": "stdout",
     "output_type": "stream",
     "text": [
      "[[1 2]\n",
      " [3 4]\n",
      " [5 6]]\n"
     ]
    }
   ],
   "source": [
    "print(arr2d.reshape(3,2))"
   ]
  },
  {
   "cell_type": "code",
   "execution_count": 47,
   "id": "7bafc434",
   "metadata": {},
   "outputs": [],
   "source": []
  },
  {
   "cell_type": "code",
   "execution_count": 48,
   "id": "6b2a92d2",
   "metadata": {},
   "outputs": [],
   "source": []
  },
  {
   "cell_type": "code",
   "execution_count": null,
   "id": "56191084",
   "metadata": {},
   "outputs": [],
   "source": []
  },
  {
   "cell_type": "code",
   "execution_count": null,
   "id": "ace5a42b",
   "metadata": {},
   "outputs": [],
   "source": []
  }
 ],
 "metadata": {
  "kernelspec": {
   "display_name": "Python 3",
   "language": "python",
   "name": "python3"
  },
  "language_info": {
   "codemirror_mode": {
    "name": "ipython",
    "version": 3
   },
   "file_extension": ".py",
   "mimetype": "text/x-python",
   "name": "python",
   "nbconvert_exporter": "python",
   "pygments_lexer": "ipython3",
   "version": "3.8.8"
  }
 },
 "nbformat": 4,
 "nbformat_minor": 5
}
